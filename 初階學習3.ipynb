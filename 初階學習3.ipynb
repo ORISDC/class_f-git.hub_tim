{
 "cells": [
  {
   "cell_type": "code",
   "execution_count": 30,
   "id": "f27d9fdb",
   "metadata": {},
   "outputs": [
    {
     "name": "stdout",
     "output_type": "stream",
     "text": [
      "開始\n",
      "5 0次\n",
      "繼續骰嗎?\n",
      "y\n",
      "2 1次\n",
      "繼續骰嗎?\n",
      "y\n",
      "1 2次\n",
      "繼續骰嗎?\n",
      "y\n",
      "6 3次\n",
      "u win\n"
     ]
    }
   ],
   "source": [
    "#骰3次骰子，骰到4就輸了\n",
    "import random\n",
    "#if  y==\"y\"\n",
    "#dice=random.randint(1,6)\n",
    "print(\"開始\")\n",
    "count=0\n",
    "dice=0\n",
    "while dice !=4 :\n",
    "        dice=random.randint(1,6)\n",
    "        print(dice,str(count)+\"次\")\n",
    "        count+=1\n",
    "        \n",
    "        if dice==4:\n",
    "            break\n",
    "            \n",
    "        elif dice!=4 and count<4: \n",
    "            print(\"繼續骰嗎?\")\n",
    "            y=input()\n",
    "\n",
    "        if  y==\"y\" and count<4:\n",
    "\n",
    "            continue\n",
    "\n",
    "        else: \n",
    "            break\n",
    "\n",
    "        \n",
    "if dice!=4 and count>3: \n",
    "            print(\"u win\") \n",
    "else: \n",
    "            print(\"game over\")\n",
    "\n",
    "#print(dice)\n"
   ]
  },
  {
   "cell_type": "code",
   "execution_count": 4,
   "id": "5651d290",
   "metadata": {},
   "outputs": [
    {
     "ename": "SyntaxError",
     "evalue": "invalid decimal literal (4048975485.py, line 1)",
     "output_type": "error",
     "traceback": [
      "\u001b[1;36m  Cell \u001b[1;32mIn[4], line 1\u001b[1;36m\u001b[0m\n\u001b[1;33m    1.色子設為0\u001b[0m\n\u001b[1;37m     ^\u001b[0m\n\u001b[1;31mSyntaxError\u001b[0m\u001b[1;31m:\u001b[0m invalid decimal literal\n"
     ]
    }
   ],
   "source": [
    "1.色子設為0\n",
    "2.判定是否為4\n",
    "3.骰色子，並顯示骰面\n",
    "4.次數+1\n",
    "5.決定是否繼續骰\n",
    "6.判定是否骰3次\n",
    "7.顯示骰面\n",
    "8.檢查次數是否為3\n",
    "9.若是，顯示win\n",
    "10.若否，顯示loose"
   ]
  },
  {
   "cell_type": "code",
   "execution_count": 28,
   "id": "2da006ba",
   "metadata": {},
   "outputs": [
    {
     "name": "stdout",
     "output_type": "stream",
     "text": [
      "開始\n",
      "1\n",
      "4\n",
      "gmae over\n"
     ]
    }
   ],
   "source": [
    "import random\n",
    "print(\"開始\")\n",
    "count=0\n",
    "dice=0\n",
    "while dice!=4:\n",
    "    dice=random.randint(1,6)\n",
    "    print(dice)\n",
    "    count+=1\n",
    "while dice==4:\n",
    "    print(\"gmae over\")\n",
    "    break  "
   ]
  },
  {
   "cell_type": "code",
   "execution_count": 48,
   "id": "01a95d28",
   "metadata": {},
   "outputs": [
    {
     "name": "stdout",
     "output_type": "stream",
     "text": [
      "1X1=1  1X2=2  1X3=3  1X4=4  1X5=5  1X6=6  1X7=7  1X8=8  1X9=9  \n",
      "2X1=2  2X2=4  2X3=6  2X4=8  2X5=10  2X6=12  2X7=14  2X8=16  2X9=18  \n",
      "3X1=3  3X2=6  3X3=9  3X4=12  3X5=15  3X6=18  3X7=21  3X8=24  3X9=27  \n",
      "4X1=4  4X2=8  4X3=12  4X4=16  4X5=20  4X6=24  4X7=28  4X8=32  4X9=36  \n",
      "5X1=5  5X2=10  5X3=15  5X4=20  5X5=25  5X6=30  5X7=35  5X8=40  5X9=45  \n",
      "6X1=6  6X2=12  6X3=18  6X4=24  6X5=30  6X6=36  6X7=42  6X8=48  6X9=54  \n",
      "7X1=7  7X2=14  7X3=21  7X4=28  7X5=35  7X6=42  7X7=49  7X8=56  7X9=63  \n",
      "8X1=8  8X2=16  8X3=24  8X4=32  8X5=40  8X6=48  8X7=56  8X8=64  8X9=72  \n",
      "9X1=9  9X2=18  9X3=27  9X4=36  9X5=45  9X6=54  9X7=63  9X8=72  9X9=81  \n"
     ]
    }
   ],
   "source": [
    "#用for做99乘法表\n",
    "\n",
    "for i in range(1,10):\n",
    "    for j in range(1,10):\n",
    "        print(str(i)+\"X\"+str(j)+\"=\"+str(i*j),end=\"  \")\n",
    "    print()   "
   ]
  },
  {
   "cell_type": "code",
   "execution_count": 6,
   "id": "a2d61ed5",
   "metadata": {},
   "outputs": [
    {
     "name": "stdout",
     "output_type": "stream",
     "text": [
      "1*1=1    1*2=2    1*3=3    1*4=4    1*5=5    1*6=6    1*7=7    1*8=8    1*9=9    \n",
      "2*1=2    2*2=4    2*3=6    2*4=8    2*5=10   2*6=12   2*7=14   2*8=16   2*9=18   \n",
      "3*1=3    3*2=6    3*3=9    3*4=12   3*5=15   3*6=18   3*7=21   3*8=24   3*9=27   \n",
      "4*1=4    4*2=8    4*3=12   4*4=16   4*5=20   4*6=24   4*7=28   4*8=32   4*9=36   \n",
      "5*1=5    5*2=10   5*3=15   5*4=20   5*5=25   5*6=30   5*7=35   5*8=40   5*9=45   \n",
      "6*1=6    6*2=12   6*3=18   6*4=24   6*5=30   6*6=36   6*7=42   6*8=48   6*9=54   \n",
      "7*1=7    7*2=14   7*3=21   7*4=28   7*5=35   7*6=42   7*7=49   7*8=56   7*9=63   \n",
      "8*1=8    8*2=16   8*3=24   8*4=32   8*5=40   8*6=48   8*7=56   8*8=64   8*9=72   \n",
      "9*1=9    9*2=18   9*3=27   9*4=36   9*5=45   9*6=54   9*7=63   9*8=72   9*9=81   \n"
     ]
    }
   ],
   "source": [
    "#用for做99乘法表\n",
    "for i in range(1,10):\n",
    "    for j in range(1,10):\n",
    "        print(\"{}*{}={:<4}\".format(i,j,i*j),end=\" \")\n",
    "    print()    "
   ]
  },
  {
   "cell_type": "code",
   "execution_count": 14,
   "id": "10c7eb4e",
   "metadata": {},
   "outputs": [
    {
     "ename": "SyntaxError",
     "evalue": "invalid syntax (3852894997.py, line 5)",
     "output_type": "error",
     "traceback": [
      "\u001b[1;36m  Cell \u001b[1;32mIn[14], line 5\u001b[1;36m\u001b[0m\n\u001b[1;33m    while 1==1 and count=8:\u001b[0m\n\u001b[1;37m                        ^\u001b[0m\n\u001b[1;31mSyntaxError\u001b[0m\u001b[1;31m:\u001b[0m invalid syntax\n"
     ]
    }
   ],
   "source": [
    "print(\"找費波數列第_位\")\n",
    "a=int(input())\n",
    "print(\"費波數列第\"+str(a)+\"位為\")\n",
    "count=0\n",
    "while 1==1 and count=8:\n",
    "    i=1\n",
    "    num+=i\n",
    "    count+=1\n",
    "print(num)    "
   ]
  },
  {
   "cell_type": "code",
   "execution_count": 49,
   "id": "3b4c9353",
   "metadata": {},
   "outputs": [
    {
     "name": "stdout",
     "output_type": "stream",
     "text": [
      "{'data': [{'created_time': '2019-07-10T10:46:42+0000', 'message': '看到了今天的新聞\\n又把這篇文翻了出來\\nhttps://m.facebook.com/story.php?story_fbid=923014161127912&id=100002580098866\\n我不是家屬\\n也尊重法院的判決\\n而我相信以翁學長的個性\\n一定是最早放下的一位吧\\n＃為有緣相識的朋友們祈禱\\nRIP.', 'id': '6321558874606720_2291365717626076'}, {'created_time': '2019-07-09T04:18:11+0000', 'message': '就放心去吧\\n祝你幸福和快樂\\n＃圖文不符', 'id': '6321558874606720_2289325164496798'}, {'created_time': '2019-07-06T02:05:26+0000', 'message': '生態真的要好好保護', 'id': '6321558874606720_2284112531684728'}, {'created_time': '2019-06-20T04:25:06+0000', 'message': '你好\\n我真的不是李姓中壢客官', 'id': '6321558874606720_2256853281077320'}, {'created_time': '2019-06-18T03:58:23+0000', 'message': '大雄到現在還活的好好的\\n一定是因為哆啦A夢\\n＃重點大誤', 'id': '6321558874606720_2253339124762069'}, {'created_time': '2019-06-17T11:29:06+0000', 'message': 'QQ\\n玉米該不會要變貴惹吧\\n蟲蟲跑進來都這麼難處理了\\n微生物跑進來更恐怖\\n誠心為台灣祈禱非洲豬瘟不要進來\\n＃逝者已矣來者可追', 'id': '6321558874606720_2252136544882327'}, {'created_time': '2019-06-17T06:57:44+0000', 'message': '什麼時候才能種大麻啊\\n\\n＃連結與文不符', 'id': '6321558874606720_2251849318244383'}, {'created_time': '2019-06-17T06:31:42+0000', 'message': 'XD', 'id': '6321558874606720_2251823688246946'}, {'created_time': '2019-06-16T14:31:41+0000', 'message': '預防重於治療，有一些平衡超過了界線就很難再回來了', 'id': '6321558874606720_2250704781692170'}, {'created_time': '2019-06-12T15:29:31+0000', 'message': '值得省思', 'id': '6321558874606720_2243908662371782'}, {'created_time': '2019-06-12T13:35:59+0000', 'message': '找蟲救台灣農業，還能拿獎金', 'id': '6321558874606720_2243733039056011'}, {'created_time': '2019-06-12T05:53:52+0000', 'message': '台灣加油（請轉90度看', 'id': '6321558874606720_2243199105776071'}, {'created_time': '2019-06-09T11:10:09+0000', 'message': 'Naomi Huang\\n沒事，就是突然好想老師您（笑', 'id': '6321558874606720_2238399536256028'}, {'created_time': '2019-06-06T00:35:27+0000', 'message': '蚌', 'id': '6321558874606720_2232582426837739'}, {'created_time': '2019-05-31T04:20:11+0000', 'message': '蒸蚌', 'id': '6321558874606720_2222492117846770'}, {'created_time': '2019-05-08T11:46:56+0000', 'id': '6321558874606720_2184638251632157'}, {'created_time': '2019-04-13T04:24:27+0000', 'message': '大家來看看喔', 'id': '6321558874606720_2145808342181815'}, {'created_time': '2019-02-07T00:19:39+0000', 'id': '6321558874606720_2052650708164246'}, {'created_time': '2018-12-22T10:54:25+0000', 'message': '有我們欸(被打', 'id': '6321558874606720_1987137274715590'}, {'created_time': '2018-12-01T16:55:09+0000', 'message': '我只能說\"我爸真厲害\"\\n#新加坡的妹子\\n#17直撥外派來的\\n#已加line   \\n#沒錯我ㄎㄧㄤ著', 'id': '6321558874606720_1958360740926577'}, {'created_time': '2018-12-01T14:50:00+0000', 'message': '雖然第一次到live house是跟老爸去\\n不過也算蠻新奇的\\n#覺得下次一定要找伴揪團去\\n#偶爾花個800塊聽歌喝酒有點太爽了\\n#根本來跟老爸學怎麼釣妹子的\\n#今日歌手 #林芯儀 #卓義峰 #吉巴奈\\n#還真的釣了兩個新加坡妹子來了XD', 'id': '6321558874606720_1958212957608022'}, {'created_time': '2018-11-06T15:18:48+0000', 'message': '這個很重要！\\n(留言有反方資訊\\n最後根本是看中國因為這個正名會不會不爽到對我們經濟制裁吧(誤', 'id': '6321558874606720_1925822134180438'}, {'created_time': '2018-11-05T15:07:21+0000', 'message': '學習是為了能夠理解，不是為了更多的衝突\\n雖然有點理想，但希望為理想作一點努力', 'id': '6321558874606720_1924499027646082'}, {'created_time': '2018-11-04T16:50:19+0000', 'message': '看完才發現自己根本沒去了解最近有什麼公投', 'id': '6321558874606720_1923267601102558'}], 'paging': {'previous': 'https://graph.facebook.com/v17.0/6321558874606720/posts?access_token=EAAwZByW04BkwBAMX7mzNfKY4mwi5EYkS7VQc3w11fLLbUMsON91jeVti9oJrRiZAZADddYMtoNgu4G28YKZAFOj9JhgLL49pDEN0ZBcHySNqKP3IpcU7d8T0XHjv32ZCZBPPyDz7ZC7G1kXKWgt58Ns3UAMhPistD5jCZCNcUCZAZAaHqo390z7lZAIlwJANIXtxO0oMOpGgeSD8m3ZC7xiNkXx4ng4f5XYiIz3lJWXcdYVxPzxcMMkPtLjYw&since=1562755602&until&__previous=1&__paging_token=enc_AdAEo16EdRNLMtxGDWkN55kXDGZBba1ZCZB5RAB9b17gboEFre2f0ZBPFxxak2ZBBxwiPsQkZCtpfo2D9TL7SZCO3bSdl8ANB43welhLLVISClqDx8QdgZDZD', 'next': 'https://graph.facebook.com/v17.0/6321558874606720/posts?access_token=EAAwZByW04BkwBAMX7mzNfKY4mwi5EYkS7VQc3w11fLLbUMsON91jeVti9oJrRiZAZADddYMtoNgu4G28YKZAFOj9JhgLL49pDEN0ZBcHySNqKP3IpcU7d8T0XHjv32ZCZBPPyDz7ZC7G1kXKWgt58Ns3UAMhPistD5jCZCNcUCZAZAaHqo390z7lZAIlwJANIXtxO0oMOpGgeSD8m3ZC7xiNkXx4ng4f5XYiIz3lJWXcdYVxPzxcMMkPtLjYw&since&until=1541350219&__paging_token=enc_AdAz9vL7BWDuGqOSxfnPmRD0ThLRnvJHfOmfQ8OP8wPYvPopLPfubo0NelAkZCWFyN6YPCK0FOPmX2MihGw3jF4Ywg3SaOpzCbx7cqzI6EuJkCwZDZD&__previous'}}\n"
     ]
    }
   ],
   "source": [
    "import requests\n",
    "import json\n",
    "res=requests.get(\"https://graph.facebook.com/v17.0/me/posts?access_token=EAAwZByW04BkwBAMX7mzNfKY4mwi5EYkS7VQc3w11fLLbUMsON91jeVti9oJrRiZAZADddYMtoNgu4G28YKZAFOj9JhgLL49pDEN0ZBcHySNqKP3IpcU7d8T0XHjv32ZCZBPPyDz7ZC7G1kXKWgt58Ns3UAMhPistD5jCZCNcUCZAZAaHqo390z7lZAIlwJANIXtxO0oMOpGgeSD8m3ZC7xiNkXx4ng4f5XYiIz3lJWXcdYVxPzxcMMkPtLjYw\")\n",
    "jd=json.loads(res.text)\n",
    "res2=requests.get('https://graph.facebook.com/v17.0/6321558874606720/posts?access_token=EAAwZByW04BkwBAMX7mzNfKY4mwi5EYkS7VQc3w11fLLbUMsON91jeVti9oJrRiZAZADddYMtoNgu4G28YKZAFOj9JhgLL49pDEN0ZBcHySNqKP3IpcU7d8T0XHjv32ZCZBPPyDz7ZC7G1kXKWgt58Ns3UAMhPistD5jCZCNcUCZAZAaHqo390z7lZAIlwJANIXtxO0oMOpGgeSD8m3ZC7xiNkXx4ng4f5XYiIz3lJWXcdYVxPzxcMMkPtLjYw&until=1563008388&since&__paging_token=enc_AdAkjXXZCZAZAPugRH7va1YXeM6XLLtFZA0jl2i5eTbAzSmZC51DTTgYbL70CwkNZBoiYZBFwpv9aNDsMZCqgWEZAeeGDyfSHO5INDQ4TwP5ZAFL7tDmfqRAZDZD&__previous')\n",
    "jd2=json.loads(res2.text)\n",
    "print(jd2)\n"
   ]
  },
  {
   "cell_type": "code",
   "execution_count": 8,
   "id": "4a013d4b",
   "metadata": {},
   "outputs": [
    {
     "name": "stdout",
     "output_type": "stream",
     "text": [
      "<class 'dict'>\n"
     ]
    },
    {
     "ename": "KeyError",
     "evalue": "'data'",
     "output_type": "error",
     "traceback": [
      "\u001b[1;31m---------------------------------------------------------------------------\u001b[0m",
      "\u001b[1;31mKeyError\u001b[0m                                  Traceback (most recent call last)",
      "Cell \u001b[1;32mIn[8], line 4\u001b[0m\n\u001b[0;32m      2\u001b[0m \u001b[38;5;28;01mimport\u001b[39;00m \u001b[38;5;21;01mjson\u001b[39;00m\n\u001b[0;32m      3\u001b[0m \u001b[38;5;28mprint\u001b[39m(\u001b[38;5;28mtype\u001b[39m(jd))\n\u001b[1;32m----> 4\u001b[0m \u001b[38;5;28mprint\u001b[39m(\u001b[43mjd\u001b[49m\u001b[43m[\u001b[49m\u001b[38;5;124;43m\"\u001b[39;49m\u001b[38;5;124;43mdata\u001b[39;49m\u001b[38;5;124;43m\"\u001b[39;49m\u001b[43m]\u001b[49m[\u001b[38;5;241m0\u001b[39m:\u001b[38;5;241m3\u001b[39m])\n",
      "\u001b[1;31mKeyError\u001b[0m: 'data'"
     ]
    }
   ],
   "source": [
    "import requests\n",
    "import json\n",
    "print(type(jd))\n",
    "print(jd[\"data\"][0:3])"
   ]
  },
  {
   "cell_type": "code",
   "execution_count": 5,
   "id": "7a16bac4",
   "metadata": {},
   "outputs": [
    {
     "ename": "NameError",
     "evalue": "name 'jd' is not defined",
     "output_type": "error",
     "traceback": [
      "\u001b[1;31m---------------------------------------------------------------------------\u001b[0m",
      "\u001b[1;31mNameError\u001b[0m                                 Traceback (most recent call last)",
      "Cell \u001b[1;32mIn[5], line 3\u001b[0m\n\u001b[0;32m      1\u001b[0m \u001b[38;5;28;01mimport\u001b[39;00m \u001b[38;5;21;01mrequests\u001b[39;00m\n\u001b[0;32m      2\u001b[0m \u001b[38;5;28;01mimport\u001b[39;00m \u001b[38;5;21;01mjson\u001b[39;00m\n\u001b[1;32m----> 3\u001b[0m \u001b[38;5;28mprint\u001b[39m(\u001b[38;5;28mtype\u001b[39m(\u001b[43mjd\u001b[49m))\n\u001b[0;32m      4\u001b[0m \u001b[38;5;28mprint\u001b[39m(jd[\u001b[38;5;124m\"\u001b[39m\u001b[38;5;124mdata\u001b[39m\u001b[38;5;124m\"\u001b[39m][\u001b[38;5;241m3\u001b[39m])\n",
      "\u001b[1;31mNameError\u001b[0m: name 'jd' is not defined"
     ]
    }
   ],
   "source": [
    "import requests\n",
    "import json\n",
    "print(type(jd))\n",
    "print(jd[\"data\"][3])"
   ]
  },
  {
   "cell_type": "code",
   "execution_count": 30,
   "id": "f528c5e7",
   "metadata": {},
   "outputs": [
    {
     "name": "stdout",
     "output_type": "stream",
     "text": [
      "<class 'dict'>\n",
      "6321558874606720_5881029525326326\n"
     ]
    }
   ],
   "source": [
    "import requests\n",
    "import json\n",
    "print(type(jd))\n",
    "print(jd[\"data\"][2][\"id\"])\n"
   ]
  },
  {
   "cell_type": "code",
   "execution_count": 40,
   "id": "bc3e55ce",
   "metadata": {
    "scrolled": true
   },
   "outputs": [
    {
     "name": "stdout",
     "output_type": "stream",
     "text": [
      "{'created_time': '2023-05-29T15:41:53+0000', 'id': '6321558874606720_6190501254379150'}\n",
      "{'created_time': '2023-02-21T15:09:46+0000', 'message': '12年來沒在大頭貼放過真實照片的我\\n為了租房子的社團規定不得不低頭\\n在此誠徵中永和、板橋、三重之租屋處\\n預算8000以內\\n預計3月中搬好\\n如果有打算合租的夥伴更好\\n我可以代為看房，自帶網路跟電視可share\\n\\n租屋處被賣掉真的超痛苦的', 'id': '6321558874606720_5881052008657411'}\n",
      "{'created_time': '2023-02-21T15:00:43+0000', 'id': '6321558874606720_5881029525326326'}\n",
      "{'created_time': '2022-10-25T03:10:26+0000', 'message': '#守護者全動員', 'id': '6321558874606720_5520593884703227'}\n",
      "{'created_time': '2022-09-22T16:39:48+0000', 'message': '歡迎來參加，了解一下有機農業喔~', 'id': '6321558874606720_5423997034362913'}\n",
      "{'created_time': '2022-07-30T02:23:29+0000', 'message': '好朋友研究有成\\n對野生動物保護有興趣的\\n歡迎共襄盛舉', 'id': '6321558874606720_5272951766134108'}\n",
      "{'created_time': '2022-02-23T14:37:48+0000', 'message': '歡迎有想學Python相關大數據的有為青年們來報名喔~~\\n記得報我名字喔XD\\n然後可以找我吃一頓飯，你懂的\\nhttps://spshfu.tw/product/%E3%80%90%E5%A4%A7%E6%95%B8%E6%93%9A%E8%B3%87%E6%96%99%E7%A7%91%E5%AD%B8%E5%AE%B6%E9%A4%8A%E6%88%90%E7%8F%AD%E7%AC%AC2%E6%A2%AF%E3%80%91111-03-07%E9%96%8B%E8%AA%B2/\\n#免費\\n#有津貼', 'id': '6321558874606720_4840853389343950'}\n",
      "{'created_time': '2021-10-07T12:05:19+0000', 'message': '第一次知道拉麵加柚子\\n先吃一次再說', 'id': '6321558874606720_4360614954034465'}\n",
      "{'created_time': '2021-04-16T07:39:53+0000', 'message': '除了魔法阿嬤\\n我第一次遇到我興趣如此高昂的台灣自製動畫\\n接下來\\n就是看編劇跟畫面的功力了\\n音樂跟原作劇情我直接給過', 'id': '6321558874606720_3849672105128755'}\n",
      "{'created_time': '2021-04-09T12:07:55+0000', 'message': '好吃！麵偏硬，好像在吃乾拉麵XD', 'id': '6321558874606720_3830065530422746'}\n",
      "{'created_time': '2021-01-02T05:33:48+0000', 'message': '＃請問fb大神 ＃手工家事皂 \\n家裡有一大批未過期葡萄籽油想要拿來自製液體皂作液體洗衣精（用很兇）\\n目前已有設備（不確定是否有用）：原料（不夠再買），11L攪拌缸（作麵包那種），大同電鍋/瓦斯爐，一些精油\\n請教各位大神有什麼需注意與是否可行\\n＃幾百年沒發文惹 ＃沒錯啦我家賣油的啦\\n＃想買橄欖油來找我 ＃所以這種tag真的有用嗎', 'id': '6321558874606720_3560495280713107'}\n",
      "{'created_time': '2020-12-08T10:25:33+0000', 'id': '6321558874606720_3499469663482336'}\n",
      "{'created_time': '2020-09-01T02:27:01+0000', 'id': '6321558874606720_3220904871338818'}\n",
      "{'created_time': '2020-09-01T02:26:25+0000', 'id': '6321558874606720_3220903661338939'}\n",
      "{'created_time': '2020-04-14T09:35:15+0000', 'message': '打卡送黑麥汁', 'id': '6321558874606720_2853375661425076'}\n",
      "{'created_time': '2020-01-11T07:20:14+0000', 'message': '打卡享優惠', 'id': '6321558874606720_2654818891280755'}\n",
      "{'created_time': '2019-11-20T17:33:46+0000', 'message': '可惡的作息破壞者\\n但是這集真的猛\\n希望台灣可以更進步', 'id': '6321558874606720_2542631552499490'}\n",
      "{'created_time': '2019-10-12T11:59:47+0000', 'id': '6321558874606720_2460049537424359'}\n",
      "{'created_time': '2019-10-11T04:49:34+0000', 'message': '不要再說是打殺遊戲的錯了，有病的是無法管控自己情緒的人，77777', 'id': '6321558874606720_2457583481004298'}\n",
      "{'created_time': '2019-10-07T12:04:40+0000', 'message': '看來我需要實驗一下了（誤', 'id': '6321558874606720_2450501171712529'}\n",
      "{'created_time': '2019-10-05T02:10:54+0000', 'message': '這就是為什麼talk show這麼有趣\\n\\n', 'id': '6321558874606720_2445847208844592'}\n",
      "{'created_time': '2019-08-17T01:55:17+0000', 'message': '路殺真的很問題很大\\n尤其臺灣不少保育類動物不斷被發現死在路上\\n希望台灣能給予野生動物更好的活命空間\\n並且呼籲大家不要棄養貓狗\\n愛到最後牠生命一刻', 'id': '6321558874606720_2355992681163379'}\n",
      "{'created_time': '2019-08-07T11:26:22+0000', 'message': '吃晚餐，送飲料', 'id': '6321558874606720_2339392029490111'}\n",
      "{'created_time': '2019-08-06T06:00:15+0000', 'message': '這個真的要好好自我警惕', 'id': '6321558874606720_2337363123026335'}\n",
      "{'created_time': '2019-07-13T08:59:48+0000', 'message': '從第一篇開始看吧', 'id': '6321558874606720_2296244813804833'}\n",
      "{'data': [{'created_time': '2023-05-29T15:41:53+0000', 'id': '6321558874606720_6190501254379150'}, {'created_time': '2023-02-21T15:09:46+0000', 'message': '12年來沒在大頭貼放過真實照片的我\\n為了租房子的社團規定不得不低頭\\n在此誠徵中永和、板橋、三重之租屋處\\n預算8000以內\\n預計3月中搬好\\n如果有打算合租的夥伴更好\\n我可以代為看房，自帶網路跟電視可share\\n\\n租屋處被賣掉真的超痛苦的', 'id': '6321558874606720_5881052008657411'}, {'created_time': '2023-02-21T15:00:43+0000', 'id': '6321558874606720_5881029525326326'}, {'created_time': '2022-10-25T03:10:26+0000', 'message': '#守護者全動員', 'id': '6321558874606720_5520593884703227'}, {'created_time': '2022-09-22T16:39:48+0000', 'message': '歡迎來參加，了解一下有機農業喔~', 'id': '6321558874606720_5423997034362913'}, {'created_time': '2022-07-30T02:23:29+0000', 'message': '好朋友研究有成\\n對野生動物保護有興趣的\\n歡迎共襄盛舉', 'id': '6321558874606720_5272951766134108'}, {'created_time': '2022-02-23T14:37:48+0000', 'message': '歡迎有想學Python相關大數據的有為青年們來報名喔~~\\n記得報我名字喔XD\\n然後可以找我吃一頓飯，你懂的\\nhttps://spshfu.tw/product/%E3%80%90%E5%A4%A7%E6%95%B8%E6%93%9A%E8%B3%87%E6%96%99%E7%A7%91%E5%AD%B8%E5%AE%B6%E9%A4%8A%E6%88%90%E7%8F%AD%E7%AC%AC2%E6%A2%AF%E3%80%91111-03-07%E9%96%8B%E8%AA%B2/\\n#免費\\n#有津貼', 'id': '6321558874606720_4840853389343950'}, {'created_time': '2021-10-07T12:05:19+0000', 'message': '第一次知道拉麵加柚子\\n先吃一次再說', 'id': '6321558874606720_4360614954034465'}, {'created_time': '2021-04-16T07:39:53+0000', 'message': '除了魔法阿嬤\\n我第一次遇到我興趣如此高昂的台灣自製動畫\\n接下來\\n就是看編劇跟畫面的功力了\\n音樂跟原作劇情我直接給過', 'id': '6321558874606720_3849672105128755'}, {'created_time': '2021-04-09T12:07:55+0000', 'message': '好吃！麵偏硬，好像在吃乾拉麵XD', 'id': '6321558874606720_3830065530422746'}, {'created_time': '2021-01-02T05:33:48+0000', 'message': '＃請問fb大神 ＃手工家事皂 \\n家裡有一大批未過期葡萄籽油想要拿來自製液體皂作液體洗衣精（用很兇）\\n目前已有設備（不確定是否有用）：原料（不夠再買），11L攪拌缸（作麵包那種），大同電鍋/瓦斯爐，一些精油\\n請教各位大神有什麼需注意與是否可行\\n＃幾百年沒發文惹 ＃沒錯啦我家賣油的啦\\n＃想買橄欖油來找我 ＃所以這種tag真的有用嗎', 'id': '6321558874606720_3560495280713107'}, {'created_time': '2020-12-08T10:25:33+0000', 'id': '6321558874606720_3499469663482336'}, {'created_time': '2020-09-01T02:27:01+0000', 'id': '6321558874606720_3220904871338818'}, {'created_time': '2020-09-01T02:26:25+0000', 'id': '6321558874606720_3220903661338939'}, {'created_time': '2020-04-14T09:35:15+0000', 'message': '打卡送黑麥汁', 'id': '6321558874606720_2853375661425076'}, {'created_time': '2020-01-11T07:20:14+0000', 'message': '打卡享優惠', 'id': '6321558874606720_2654818891280755'}, {'created_time': '2019-11-20T17:33:46+0000', 'message': '可惡的作息破壞者\\n但是這集真的猛\\n希望台灣可以更進步', 'id': '6321558874606720_2542631552499490'}, {'created_time': '2019-10-12T11:59:47+0000', 'id': '6321558874606720_2460049537424359'}, {'created_time': '2019-10-11T04:49:34+0000', 'message': '不要再說是打殺遊戲的錯了，有病的是無法管控自己情緒的人，77777', 'id': '6321558874606720_2457583481004298'}, {'created_time': '2019-10-07T12:04:40+0000', 'message': '看來我需要實驗一下了（誤', 'id': '6321558874606720_2450501171712529'}, {'created_time': '2019-10-05T02:10:54+0000', 'message': '這就是為什麼talk show這麼有趣\\n\\n', 'id': '6321558874606720_2445847208844592'}, {'created_time': '2019-08-17T01:55:17+0000', 'message': '路殺真的很問題很大\\n尤其臺灣不少保育類動物不斷被發現死在路上\\n希望台灣能給予野生動物更好的活命空間\\n並且呼籲大家不要棄養貓狗\\n愛到最後牠生命一刻', 'id': '6321558874606720_2355992681163379'}, {'created_time': '2019-08-07T11:26:22+0000', 'message': '吃晚餐，送飲料', 'id': '6321558874606720_2339392029490111'}, {'created_time': '2019-08-06T06:00:15+0000', 'message': '這個真的要好好自我警惕', 'id': '6321558874606720_2337363123026335'}, {'created_time': '2019-07-13T08:59:48+0000', 'message': '從第一篇開始看吧', 'id': '6321558874606720_2296244813804833'}], 'paging': {'previous': 'https://graph.facebook.com/v17.0/6321558874606720/posts?access_token=EAAwZByW04BkwBAMX7mzNfKY4mwi5EYkS7VQc3w11fLLbUMsON91jeVti9oJrRiZAZADddYMtoNgu4G28YKZAFOj9JhgLL49pDEN0ZBcHySNqKP3IpcU7d8T0XHjv32ZCZBPPyDz7ZC7G1kXKWgt58Ns3UAMhPistD5jCZCNcUCZAZAaHqo390z7lZAIlwJANIXtxO0oMOpGgeSD8m3ZC7xiNkXx4ng4f5XYiIz3lJWXcdYVxPzxcMMkPtLjYw&__previous=1&since=1685374913&until&__paging_token=enc_AdDA02K2N3ZAm5phCVSp9ZAxZCtNA6AOmH3Bi0KcRtbCXm8hgrZAcxOCWamNUsk4930alj1anF4PAa61ez58WNvMouO4j5qGYy9pmh4svgqW1drPZCgZDZD', 'next': 'https://graph.facebook.com/v17.0/6321558874606720/posts?access_token=EAAwZByW04BkwBAMX7mzNfKY4mwi5EYkS7VQc3w11fLLbUMsON91jeVti9oJrRiZAZADddYMtoNgu4G28YKZAFOj9JhgLL49pDEN0ZBcHySNqKP3IpcU7d8T0XHjv32ZCZBPPyDz7ZC7G1kXKWgt58Ns3UAMhPistD5jCZCNcUCZAZAaHqo390z7lZAIlwJANIXtxO0oMOpGgeSD8m3ZC7xiNkXx4ng4f5XYiIz3lJWXcdYVxPzxcMMkPtLjYw&until=1563008388&since&__paging_token=enc_AdAkjXXZCZAZAPugRH7va1YXeM6XLLtFZA0jl2i5eTbAzSmZC51DTTgYbL70CwkNZBoiYZBFwpv9aNDsMZCqgWEZAeeGDyfSHO5INDQ4TwP5ZAFL7tDmfqRAZDZD&__previous'}}\n"
     ]
    }
   ],
   "source": [
    "import requests\n",
    "import json\n",
    "\n",
    "lis=jd[\"data\"]\n",
    "for i in lis:\n",
    "    print(i)\n",
    "res2=requests.get( 'https://graph.facebook.com/v17.0/6321558874606720/posts?access_token=EAAwZByW04BkwBAMX7mzNfKY4mwi5EYkS7VQc3w11fLLbUMsON91jeVti9oJrRiZAZADddYMtoNgu4G28YKZAFOj9JhgLL49pDEN0ZBcHySNqKP3IpcU7d8T0XHjv32ZCZBPPyDz7ZC7G1kXKWgt58Ns3UAMhPistD5jCZCNcUCZAZAaHqo390z7lZAIlwJANIXtxO0oMOpGgeSD8m3ZC7xiNkXx4ng4f5XYiIz3lJWXcdYVxPzxcMMkPtLjYw&__previous=1&since=1685374913&until&__paging_token=enc_AdDA02K2N3ZAm5phCVSp9ZAxZCtNA6AOmH3Bi0KcRtbCXm8hgrZAcxOCWamNUsk4930alj1anF4PAa61ez58WNvMouO4j5qGYy9pmh4svgqW1drPZCgZDZD')\n",
    "jd2=json.loads(res.text)\n",
    "print(jd2)"
   ]
  },
  {
   "cell_type": "code",
   "execution_count": 23,
   "id": "07e5b5f9",
   "metadata": {
    "scrolled": true
   },
   "outputs": [
    {
     "name": "stdout",
     "output_type": "stream",
     "text": [
      "1\n",
      "2\n",
      "3\n",
      "4\n",
      "5\n"
     ]
    }
   ],
   "source": [
    "'''lis=[1,2,3,4,5]\n",
    "for i in lis:\n",
    "    print(i)'''"
   ]
  },
  {
   "cell_type": "code",
   "execution_count": 48,
   "id": "dc3e7091",
   "metadata": {},
   "outputs": [
    {
     "name": "stdout",
     "output_type": "stream",
     "text": [
      "{'created_time': '2023-05-29T15:41:53+0000', 'id': '6321558874606720_6190501254379150'}\n",
      " \n",
      "{'created_time': '2023-02-21T15:09:46+0000', 'message': '12年來沒在大頭貼放過真實照片的我\\n為了租房子的社團規定不得不低頭\\n在此誠徵中永和、板橋、三重之租屋處\\n預算8000以內\\n預計3月中搬好\\n如果有打算合租的夥伴更好\\n我可以代為看房，自帶網路跟電視可share\\n\\n租屋處被賣掉真的超痛苦的', 'id': '6321558874606720_5881052008657411'}\n",
      " \n",
      "{'created_time': '2023-02-21T15:00:43+0000', 'id': '6321558874606720_5881029525326326'}\n",
      " \n",
      "{'created_time': '2022-10-25T03:10:26+0000', 'message': '#守護者全動員', 'id': '6321558874606720_5520593884703227'}\n",
      " \n",
      "{'created_time': '2022-09-22T16:39:48+0000', 'message': '歡迎來參加，了解一下有機農業喔~', 'id': '6321558874606720_5423997034362913'}\n",
      " \n",
      "{'created_time': '2022-07-30T02:23:29+0000', 'message': '好朋友研究有成\\n對野生動物保護有興趣的\\n歡迎共襄盛舉', 'id': '6321558874606720_5272951766134108'}\n",
      " \n",
      "{'created_time': '2022-02-23T14:37:48+0000', 'message': '歡迎有想學Python相關大數據的有為青年們來報名喔~~\\n記得報我名字喔XD\\n然後可以找我吃一頓飯，你懂的\\nhttps://spshfu.tw/product/%E3%80%90%E5%A4%A7%E6%95%B8%E6%93%9A%E8%B3%87%E6%96%99%E7%A7%91%E5%AD%B8%E5%AE%B6%E9%A4%8A%E6%88%90%E7%8F%AD%E7%AC%AC2%E6%A2%AF%E3%80%91111-03-07%E9%96%8B%E8%AA%B2/\\n#免費\\n#有津貼', 'id': '6321558874606720_4840853389343950'}\n",
      " \n",
      "{'created_time': '2021-10-07T12:05:19+0000', 'message': '第一次知道拉麵加柚子\\n先吃一次再說', 'id': '6321558874606720_4360614954034465'}\n",
      " \n",
      "{'created_time': '2021-04-16T07:39:53+0000', 'message': '除了魔法阿嬤\\n我第一次遇到我興趣如此高昂的台灣自製動畫\\n接下來\\n就是看編劇跟畫面的功力了\\n音樂跟原作劇情我直接給過', 'id': '6321558874606720_3849672105128755'}\n",
      " \n",
      "{'created_time': '2021-04-09T12:07:55+0000', 'message': '好吃！麵偏硬，好像在吃乾拉麵XD', 'id': '6321558874606720_3830065530422746'}\n",
      " \n",
      "{'created_time': '2021-01-02T05:33:48+0000', 'message': '＃請問fb大神 ＃手工家事皂 \\n家裡有一大批未過期葡萄籽油想要拿來自製液體皂作液體洗衣精（用很兇）\\n目前已有設備（不確定是否有用）：原料（不夠再買），11L攪拌缸（作麵包那種），大同電鍋/瓦斯爐，一些精油\\n請教各位大神有什麼需注意與是否可行\\n＃幾百年沒發文惹 ＃沒錯啦我家賣油的啦\\n＃想買橄欖油來找我 ＃所以這種tag真的有用嗎', 'id': '6321558874606720_3560495280713107'}\n",
      " \n",
      "{'created_time': '2020-12-08T10:25:33+0000', 'id': '6321558874606720_3499469663482336'}\n",
      " \n",
      "{'created_time': '2020-09-01T02:27:01+0000', 'id': '6321558874606720_3220904871338818'}\n",
      " \n",
      "{'created_time': '2020-09-01T02:26:25+0000', 'id': '6321558874606720_3220903661338939'}\n",
      " \n",
      "{'created_time': '2020-04-14T09:35:15+0000', 'message': '打卡送黑麥汁', 'id': '6321558874606720_2853375661425076'}\n",
      " \n",
      "{'created_time': '2020-01-11T07:20:14+0000', 'message': '打卡享優惠', 'id': '6321558874606720_2654818891280755'}\n",
      " \n",
      "{'created_time': '2019-11-20T17:33:46+0000', 'message': '可惡的作息破壞者\\n但是這集真的猛\\n希望台灣可以更進步', 'id': '6321558874606720_2542631552499490'}\n",
      " \n",
      "{'created_time': '2019-10-12T11:59:47+0000', 'id': '6321558874606720_2460049537424359'}\n",
      " \n",
      "{'created_time': '2019-10-11T04:49:34+0000', 'message': '不要再說是打殺遊戲的錯了，有病的是無法管控自己情緒的人，77777', 'id': '6321558874606720_2457583481004298'}\n",
      " \n",
      "{'created_time': '2019-10-07T12:04:40+0000', 'message': '看來我需要實驗一下了（誤', 'id': '6321558874606720_2450501171712529'}\n",
      " \n",
      "{'created_time': '2019-10-05T02:10:54+0000', 'message': '這就是為什麼talk show這麼有趣\\n\\n', 'id': '6321558874606720_2445847208844592'}\n",
      " \n",
      "{'created_time': '2019-08-17T01:55:17+0000', 'message': '路殺真的很問題很大\\n尤其臺灣不少保育類動物不斷被發現死在路上\\n希望台灣能給予野生動物更好的活命空間\\n並且呼籲大家不要棄養貓狗\\n愛到最後牠生命一刻', 'id': '6321558874606720_2355992681163379'}\n",
      " \n",
      "{'created_time': '2019-08-07T11:26:22+0000', 'message': '吃晚餐，送飲料', 'id': '6321558874606720_2339392029490111'}\n",
      " \n",
      "{'created_time': '2019-08-06T06:00:15+0000', 'message': '這個真的要好好自我警惕', 'id': '6321558874606720_2337363123026335'}\n",
      " \n",
      "{'created_time': '2019-07-13T08:59:48+0000', 'message': '從第一篇開始看吧', 'id': '6321558874606720_2296244813804833'}\n",
      " \n",
      "{'data': [{'created_time': '2023-05-29T15:41:53+0000', 'id': '6321558874606720_6190501254379150'}, {'created_time': '2023-02-21T15:09:46+0000', 'message': '12年來沒在大頭貼放過真實照片的我\\n為了租房子的社團規定不得不低頭\\n在此誠徵中永和、板橋、三重之租屋處\\n預算8000以內\\n預計3月中搬好\\n如果有打算合租的夥伴更好\\n我可以代為看房，自帶網路跟電視可share\\n\\n租屋處被賣掉真的超痛苦的', 'id': '6321558874606720_5881052008657411'}, {'created_time': '2023-02-21T15:00:43+0000', 'id': '6321558874606720_5881029525326326'}, {'created_time': '2022-10-25T03:10:26+0000', 'message': '#守護者全動員', 'id': '6321558874606720_5520593884703227'}, {'created_time': '2022-09-22T16:39:48+0000', 'message': '歡迎來參加，了解一下有機農業喔~', 'id': '6321558874606720_5423997034362913'}, {'created_time': '2022-07-30T02:23:29+0000', 'message': '好朋友研究有成\\n對野生動物保護有興趣的\\n歡迎共襄盛舉', 'id': '6321558874606720_5272951766134108'}, {'created_time': '2022-02-23T14:37:48+0000', 'message': '歡迎有想學Python相關大數據的有為青年們來報名喔~~\\n記得報我名字喔XD\\n然後可以找我吃一頓飯，你懂的\\nhttps://spshfu.tw/product/%E3%80%90%E5%A4%A7%E6%95%B8%E6%93%9A%E8%B3%87%E6%96%99%E7%A7%91%E5%AD%B8%E5%AE%B6%E9%A4%8A%E6%88%90%E7%8F%AD%E7%AC%AC2%E6%A2%AF%E3%80%91111-03-07%E9%96%8B%E8%AA%B2/\\n#免費\\n#有津貼', 'id': '6321558874606720_4840853389343950'}, {'created_time': '2021-10-07T12:05:19+0000', 'message': '第一次知道拉麵加柚子\\n先吃一次再說', 'id': '6321558874606720_4360614954034465'}, {'created_time': '2021-04-16T07:39:53+0000', 'message': '除了魔法阿嬤\\n我第一次遇到我興趣如此高昂的台灣自製動畫\\n接下來\\n就是看編劇跟畫面的功力了\\n音樂跟原作劇情我直接給過', 'id': '6321558874606720_3849672105128755'}, {'created_time': '2021-04-09T12:07:55+0000', 'message': '好吃！麵偏硬，好像在吃乾拉麵XD', 'id': '6321558874606720_3830065530422746'}, {'created_time': '2021-01-02T05:33:48+0000', 'message': '＃請問fb大神 ＃手工家事皂 \\n家裡有一大批未過期葡萄籽油想要拿來自製液體皂作液體洗衣精（用很兇）\\n目前已有設備（不確定是否有用）：原料（不夠再買），11L攪拌缸（作麵包那種），大同電鍋/瓦斯爐，一些精油\\n請教各位大神有什麼需注意與是否可行\\n＃幾百年沒發文惹 ＃沒錯啦我家賣油的啦\\n＃想買橄欖油來找我 ＃所以這種tag真的有用嗎', 'id': '6321558874606720_3560495280713107'}, {'created_time': '2020-12-08T10:25:33+0000', 'id': '6321558874606720_3499469663482336'}, {'created_time': '2020-09-01T02:27:01+0000', 'id': '6321558874606720_3220904871338818'}, {'created_time': '2020-09-01T02:26:25+0000', 'id': '6321558874606720_3220903661338939'}, {'created_time': '2020-04-14T09:35:15+0000', 'message': '打卡送黑麥汁', 'id': '6321558874606720_2853375661425076'}, {'created_time': '2020-01-11T07:20:14+0000', 'message': '打卡享優惠', 'id': '6321558874606720_2654818891280755'}, {'created_time': '2019-11-20T17:33:46+0000', 'message': '可惡的作息破壞者\\n但是這集真的猛\\n希望台灣可以更進步', 'id': '6321558874606720_2542631552499490'}, {'created_time': '2019-10-12T11:59:47+0000', 'id': '6321558874606720_2460049537424359'}, {'created_time': '2019-10-11T04:49:34+0000', 'message': '不要再說是打殺遊戲的錯了，有病的是無法管控自己情緒的人，77777', 'id': '6321558874606720_2457583481004298'}, {'created_time': '2019-10-07T12:04:40+0000', 'message': '看來我需要實驗一下了（誤', 'id': '6321558874606720_2450501171712529'}, {'created_time': '2019-10-05T02:10:54+0000', 'message': '這就是為什麼talk show這麼有趣\\n\\n', 'id': '6321558874606720_2445847208844592'}, {'created_time': '2019-08-17T01:55:17+0000', 'message': '路殺真的很問題很大\\n尤其臺灣不少保育類動物不斷被發現死在路上\\n希望台灣能給予野生動物更好的活命空間\\n並且呼籲大家不要棄養貓狗\\n愛到最後牠生命一刻', 'id': '6321558874606720_2355992681163379'}, {'created_time': '2019-08-07T11:26:22+0000', 'message': '吃晚餐，送飲料', 'id': '6321558874606720_2339392029490111'}, {'created_time': '2019-08-06T06:00:15+0000', 'message': '這個真的要好好自我警惕', 'id': '6321558874606720_2337363123026335'}, {'created_time': '2019-07-13T08:59:48+0000', 'message': '從第一篇開始看吧', 'id': '6321558874606720_2296244813804833'}], 'paging': {'previous': 'https://graph.facebook.com/v17.0/6321558874606720/posts?access_token=EAAwZByW04BkwBAMX7mzNfKY4mwi5EYkS7VQc3w11fLLbUMsON91jeVti9oJrRiZAZADddYMtoNgu4G28YKZAFOj9JhgLL49pDEN0ZBcHySNqKP3IpcU7d8T0XHjv32ZCZBPPyDz7ZC7G1kXKWgt58Ns3UAMhPistD5jCZCNcUCZAZAaHqo390z7lZAIlwJANIXtxO0oMOpGgeSD8m3ZC7xiNkXx4ng4f5XYiIz3lJWXcdYVxPzxcMMkPtLjYw&__previous=1&since=1685374913&until&__paging_token=enc_AdDA02K2N3ZAm5phCVSp9ZAxZCtNA6AOmH3Bi0KcRtbCXm8hgrZAcxOCWamNUsk4930alj1anF4PAa61ez58WNvMouO4j5qGYy9pmh4svgqW1drPZCgZDZD', 'next': 'https://graph.facebook.com/v17.0/6321558874606720/posts?access_token=EAAwZByW04BkwBAMX7mzNfKY4mwi5EYkS7VQc3w11fLLbUMsON91jeVti9oJrRiZAZADddYMtoNgu4G28YKZAFOj9JhgLL49pDEN0ZBcHySNqKP3IpcU7d8T0XHjv32ZCZBPPyDz7ZC7G1kXKWgt58Ns3UAMhPistD5jCZCNcUCZAZAaHqo390z7lZAIlwJANIXtxO0oMOpGgeSD8m3ZC7xiNkXx4ng4f5XYiIz3lJWXcdYVxPzxcMMkPtLjYw&until=1563008388&since&__paging_token=enc_AdAkjXXZCZAZAPugRH7va1YXeM6XLLtFZA0jl2i5eTbAzSmZC51DTTgYbL70CwkNZBoiYZBFwpv9aNDsMZCqgWEZAeeGDyfSHO5INDQ4TwP5ZAFL7tDmfqRAZDZD&__previous'}}\n"
     ]
    }
   ],
   "source": [
    "lis=jd[\"data\"]\n",
    "for i in lis:\n",
    "    print(i)\n",
    "    print(\" \")   \n",
    "print(jd2)    "
   ]
  },
  {
   "cell_type": "code",
   "execution_count": 54,
   "id": "979ca1df",
   "metadata": {},
   "outputs": [
    {
     "name": "stderr",
     "output_type": "stream",
     "text": [
      "IOPub data rate exceeded.\n",
      "The notebook server will temporarily stop sending output\n",
      "to the client in order to avoid crashing it.\n",
      "To change this limit, set the config variable\n",
      "`--NotebookApp.iopub_data_rate_limit`.\n",
      "\n",
      "Current values:\n",
      "NotebookApp.iopub_data_rate_limit=1000000.0 (bytes/sec)\n",
      "NotebookApp.rate_limit_window=3.0 (secs)\n",
      "\n"
     ]
    },
    {
     "ename": "KeyboardInterrupt",
     "evalue": "",
     "output_type": "error",
     "traceback": [
      "\u001b[1;31m---------------------------------------------------------------------------\u001b[0m",
      "\u001b[1;31mKeyboardInterrupt\u001b[0m                         Traceback (most recent call last)",
      "Cell \u001b[1;32mIn[54], line 4\u001b[0m\n\u001b[0;32m      2\u001b[0m lis\u001b[38;5;241m+\u001b[39m\u001b[38;5;241m=\u001b[39mjd[\u001b[38;5;124m\"\u001b[39m\u001b[38;5;124mdata\u001b[39m\u001b[38;5;124m\"\u001b[39m]\n\u001b[0;32m      3\u001b[0m \u001b[38;5;28;01mfor\u001b[39;00m i \u001b[38;5;129;01min\u001b[39;00m lis:\n\u001b[1;32m----> 4\u001b[0m     \u001b[38;5;28;43mprint\u001b[39;49m\u001b[43m(\u001b[49m\u001b[43mi\u001b[49m\u001b[43m)\u001b[49m\n\u001b[0;32m      5\u001b[0m     \u001b[38;5;28mprint\u001b[39m(\u001b[38;5;124m\"\u001b[39m\u001b[38;5;124m \u001b[39m\u001b[38;5;124m\"\u001b[39m)\n",
      "File \u001b[1;32m~\\anaconda3\\lib\\site-packages\\ipykernel\\iostream.py:536\u001b[0m, in \u001b[0;36mOutStream.write\u001b[1;34m(self, string)\u001b[0m\n\u001b[0;32m    526\u001b[0m \u001b[38;5;28;01mdef\u001b[39;00m \u001b[38;5;21mwrite\u001b[39m(\u001b[38;5;28mself\u001b[39m, string: \u001b[38;5;28mstr\u001b[39m) \u001b[38;5;241m-\u001b[39m\u001b[38;5;241m>\u001b[39m Optional[\u001b[38;5;28mint\u001b[39m]:  \u001b[38;5;66;03m# type:ignore[override]\u001b[39;00m\n\u001b[0;32m    527\u001b[0m     \u001b[38;5;124;03m\"\"\"Write to current stream after encoding if necessary\u001b[39;00m\n\u001b[0;32m    528\u001b[0m \n\u001b[0;32m    529\u001b[0m \u001b[38;5;124;03m    Returns\u001b[39;00m\n\u001b[1;32m   (...)\u001b[0m\n\u001b[0;32m    533\u001b[0m \n\u001b[0;32m    534\u001b[0m \u001b[38;5;124;03m    \"\"\"\u001b[39;00m\n\u001b[1;32m--> 536\u001b[0m     \u001b[38;5;28;01mif\u001b[39;00m \u001b[38;5;129;01mnot\u001b[39;00m \u001b[38;5;28;43misinstance\u001b[39;49m\u001b[43m(\u001b[49m\u001b[43mstring\u001b[49m\u001b[43m,\u001b[49m\u001b[43m \u001b[49m\u001b[38;5;28;43mstr\u001b[39;49m\u001b[43m)\u001b[49m:\n\u001b[0;32m    537\u001b[0m         \u001b[38;5;28;01mraise\u001b[39;00m \u001b[38;5;167;01mTypeError\u001b[39;00m(\u001b[38;5;124mf\u001b[39m\u001b[38;5;124m\"\u001b[39m\u001b[38;5;124mwrite() argument must be str, not \u001b[39m\u001b[38;5;132;01m{\u001b[39;00m\u001b[38;5;28mtype\u001b[39m(string)\u001b[38;5;132;01m}\u001b[39;00m\u001b[38;5;124m\"\u001b[39m)\n\u001b[0;32m    539\u001b[0m     \u001b[38;5;28;01mif\u001b[39;00m \u001b[38;5;28mself\u001b[39m\u001b[38;5;241m.\u001b[39mecho \u001b[38;5;129;01mis\u001b[39;00m \u001b[38;5;129;01mnot\u001b[39;00m \u001b[38;5;28;01mNone\u001b[39;00m:\n",
      "\u001b[1;31mKeyboardInterrupt\u001b[0m: "
     ]
    }
   ],
   "source": [
    "import requests\n",
    "import json\n",
    "res=requests.get(\"https://graph.facebook.com/v17.0/me/posts?access_token=EAAwZByW04BkwBAMX7mzNfKY4mwi5EYkS7VQc3w11fLLbUMsON91jeVti9oJrRiZAZADddYMtoNgu4G28YKZAFOj9JhgLL49pDEN0ZBcHySNqKP3IpcU7d8T0XHjv32ZCZBPPyDz7ZC7G1kXKWgt58Ns3UAMhPistD5jCZCNcUCZAZAaHqo390z7lZAIlwJANIXtxO0oMOpGgeSD8m3ZC7xiNkXx4ng4f5XYiIz3lJWXcdYVxPzxcMMkPtLjYw\")\n",
    "jd=json.loads(res.text)\n",
    "res2=requests.get('https://graph.facebook.com/v17.0/6321558874606720/posts?access_token=EAAwZByW04BkwBAMX7mzNfKY4mwi5EYkS7VQc3w11fLLbUMsON91jeVti9oJrRiZAZADddYMtoNgu4G28YKZAFOj9JhgLL49pDEN0ZBcHySNqKP3IpcU7d8T0XHjv32ZCZBPPyDz7ZC7G1kXKWgt58Ns3UAMhPistD5jCZCNcUCZAZAaHqo390z7lZAIlwJANIXtxO0oMOpGgeSD8m3ZC7xiNkXx4ng4f5XYiIz3lJWXcdYVxPzxcMMkPtLjYw&until=1563008388&since&__paging_token=enc_AdAkjXXZCZAZAPugRH7va1YXeM6XLLtFZA0jl2i5eTbAzSmZC51DTTgYbL70CwkNZBoiYZBFwpv9aNDsMZCqgWEZAeeGDyfSHO5INDQ4TwP5ZAFL7tDmfqRAZDZD&__previous')\n",
    "jd2=json.loads(res2.text)\n",
    "for j in lis:\n",
    "    resj=request.get('')\n",
    "    jdj=json.loads(resj.text)\n",
    "    lis+=jd[\"data\"]\n",
    "    for i in lis:\n",
    "        print(i)\n",
    "        print(\" \")\n",
    " "
   ]
  },
  {
   "cell_type": "code",
   "execution_count": null,
   "id": "6bfbd798",
   "metadata": {},
   "outputs": [],
   "source": [
    "import requests\n",
    "import json\n",
    "\n",
    "'''res1=requests.get(\"https://graph.facebook.com/v17.0/me/posts?access_token=EAAwZByW04BkwBAMX7mzNfKY4mwi5EYkS7VQc3w11fLLbUMsON91jeVti9oJrRiZAZADddYMtoNgu4G28YKZAFOj9JhgLL49pDEN0ZBcHySNqKP3IpcU7d8T0XHjv32ZCZBPPyDz7ZC7G1kXKWgt58Ns3UAMhPistD5jCZCNcUCZAZAaHqo390z7lZAIlwJANIXtxO0oMOpGgeSD8m3ZC7xiNkXx4ng4f5XYiIz3lJWXcdYVxPzxcMMkPtLjYw\")\n",
    "jd=json.loads(res1.text)\n",
    "res2=requests.get('https://graph.facebook.com/v17.0/6321558874606720/posts?access_token=EAAwZByW04BkwBAMX7mzNfKY4mwi5EYkS7VQc3w11fLLbUMsON91jeVti9oJrRiZAZADddYMtoNgu4G28YKZAFOj9JhgLL49pDEN0ZBcHySNqKP3IpcU7d8T0XHjv32ZCZBPPyDz7ZC7G1kXKWgt58Ns3UAMhPistD5jCZCNcUCZAZAaHqo390z7lZAIlwJANIXtxO0oMOpGgeSD8m3ZC7xiNkXx4ng4f5XYiIz3lJWXcdYVxPzxcMMkPtLjYw&until=1563008388&since&__paging_token=enc_AdAkjXXZCZAZAPugRH7va1YXeM6XLLtFZA0jl2i5eTbAzSmZC51DTTgYbL70CwkNZBoiYZBFwpv9aNDsMZCqgWEZAeeGDyfSHO5INDQ4TwP5ZAFL7tDmfqRAZDZD&__previous')\n",
    "jd2=json.loads(res2.text)\n",
    "res3=request.get('')\n",
    "jd3=json.loads(res3.text)\n",
    "\n",
    "print(\"顯示幾則貼文:\")\n",
    "num=int(input)'''\n",
    "\n",
    "\n"
   ]
  }
 ],
 "metadata": {
  "kernelspec": {
   "display_name": "Python 3 (ipykernel)",
   "language": "python",
   "name": "python3"
  },
  "language_info": {
   "codemirror_mode": {
    "name": "ipython",
    "version": 3
   },
   "file_extension": ".py",
   "mimetype": "text/x-python",
   "name": "python",
   "nbconvert_exporter": "python",
   "pygments_lexer": "ipython3",
   "version": "3.10.9"
  }
 },
 "nbformat": 4,
 "nbformat_minor": 5
}
